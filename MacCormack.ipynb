{
  "nbformat": 4,
  "nbformat_minor": 0,
  "metadata": {
    "orig_nbformat": 4,
    "language_info": {
      "name": "python",
      "version": "3.8.10",
      "mimetype": "text/x-python",
      "codemirror_mode": {
        "name": "ipython",
        "version": 3
      },
      "pygments_lexer": "ipython3",
      "nbconvert_exporter": "python",
      "file_extension": ".py"
    },
    "kernelspec": {
      "name": "python3",
      "display_name": "Python 3.8.10 64-bit"
    },
    "interpreter": {
      "hash": "916dbcbb3f70747c44a77c7bcd40155683ae19c65e1c03b4aa3499c5328201f1"
    },
    "colab": {
      "name": "MacCormack.ipynb",
      "provenance": [],
      "include_colab_link": true
    }
  },
  "cells": [
    {
      "cell_type": "markdown",
      "metadata": {
        "id": "view-in-github",
        "colab_type": "text"
      },
      "source": [
        "<a href=\"https://colab.research.google.com/github/GabrielBMiranda/MacCormack/blob/main/MacCormack.ipynb\" target=\"_parent\"><img src=\"https://colab.research.google.com/assets/colab-badge.svg\" alt=\"Open In Colab\"/></a>"
      ]
    },
    {
      "cell_type": "markdown",
      "metadata": {
        "id": "_gmh4RVJ1hHo"
      },
      "source": [
        "# SUBSONIC-SUPERSONIC ISENTROPIC FLOW\n",
        "\n",
        "\n",
        "\n",
        "**Quasi-One-Dimensional Nozzle Problem**: *Given $A, c_v$ and $R$, find $T, \\rho$ and $V$, such that*\n",
        "\n",
        "$\\begin{equation}\\tag{Continuity}\n",
        "\\frac{\\partial(\\rho A)}{\\partial t}+\\rho A \\frac{\\partial V}{\\partial x}+\\rho V \\frac{\\partial A}{\\partial x}+V A \\frac{\\partial \\rho}{\\partial x}=0\n",
        "\\end{equation}$\n",
        "\n",
        "$\\begin{equation}\\tag{Momentum}\n",
        "\\rho \\frac{\\partial V}{\\partial t}+\\rho V \\frac{\\partial V}{\\partial x}=-R\\left(\\rho \\frac{\\partial T}{\\partial x}+T \\frac{\\partial \\rho}{\\partial x}\\right)\n",
        "\\end{equation}$\n",
        "\n",
        "$\\begin{equation}\\tag{Energy}\n",
        "\\rho c_{v} \\frac{\\partial T}{\\partial t}+\\rho V c_{v} \\frac{\\partial T}{\\partial x}=-\\rho R T\\left[\\frac{\\partial V}{\\partial x}+V \\frac{\\partial(\\ln A)}{\\partial x}\\right]\n",
        "\\end{equation}$\n",
        "\n",
        "<figure>\n",
        "<center>\n",
        "<img src='https://github.com/GabrielBMiranda/MacCormack/blob/main/nozzle_white.png?raw=true', width='500' />\n",
        "<figcaption>Nozzle Configuration</figcaption></center>\n",
        "</figure>\n",
        "\n",
        "\n",
        "## Dimensionless Problem\n",
        "Lets define dimensionless variables to work with: first, let $L$ be the length of the nozzle, and $A^*$ the sonic throat area, we define \n",
        "$$\n",
        "x^{\\prime}=\\frac{x}{L}, \\quad A^{\\prime}=\\frac{A}{A^*}\n",
        "$$\n",
        "the dimensionless length and area respectively.\n",
        "\n",
        "Having the speed of sound in the reservoir $a_{0}=\\sqrt{\\gamma R T_{0}}$ we also define the dimensionless time as\n",
        "$$\n",
        "\\begin{aligned}\n",
        "t^{\\prime}=\\frac{t}{\\frac{L}{a_{0}}}\n",
        "\\end{aligned}\n",
        "$$\n",
        "\n",
        "Finally we define our dimensionless variables of interest, temperature, density and velocity, respectively as\n",
        "$$\n",
        "\\begin{aligned}\n",
        "T^{\\prime}=\\frac{T}{T_{0}}, \\quad \\rho^{\\prime}=\\frac{\\rho}{\\rho_{0}}, \\quad V^{\\prime}=\\frac{V}{a_{0}}.\n",
        "\\end{aligned}\n",
        "$$\n",
        "\n",
        "\n",
        "With some algebric manipulation we can rewrite the problem as follows\n",
        "\n",
        "$\\begin{equation}\\tag{Continuity}\n",
        "\\frac{\\partial \\rho^{\\prime}}{\\partial t^{\\prime}}=-\\rho \\frac{\\partial V^{\\prime}}{\\partial x^{\\prime}}-\\rho^{\\prime} V^{\\prime} \\frac{\\partial\\left(\\ln A^{\\prime}\\right)}{\\partial x^{\\prime}}-V^{\\prime} \\frac{\\partial \\rho^{\\prime}}{\\partial x^{\\prime}}\n",
        "\\end{equation}$\n",
        "\n",
        "$\\begin{equation}\\tag{Momentum}\n",
        "\\frac{\\partial V^{\\prime}}{\\partial t^{\\prime}}=-V^{\\prime} \\frac{\\partial V^{\\prime}}{\\partial x^{\\prime}}-\\frac{1}{\\gamma}\\left(\\frac{\\partial T^{\\prime}}{\\partial x^{\\prime}}+\\frac{T^{\\prime}}{\\rho^{\\prime}} \\frac{\\partial \\rho^{\\prime}}{\\partial x^{\\prime}}\\right)\n",
        "\\end{equation}$\n",
        "\n",
        "$\\begin{equation}\\tag{Energy}\n",
        "\\frac{\\partial T^{\\prime}}{\\partial t^{\\prime}}=-V^{\\prime} \\frac{\\partial T^{\\prime}}{\\partial x^{\\prime}}-(\\gamma-1) T^{\\prime}\\left[\\frac{\\partial V^{\\prime}}{\\partial x^{\\prime}}+V^{\\prime} \\frac{\\partial\\left(\\ln A^{\\prime}\\right)}{\\partial x^{\\prime}}\\right]\n",
        "\\end{equation}$\n",
        "\n",
        "This equations' system will be solved numerically by Mac-Cormack's explicit technique given the initial and boundary conditions to suplement the problem."
      ]
    },
    {
      "cell_type": "markdown",
      "metadata": {
        "id": "kzlWWbih1hHv"
      },
      "source": [
        "## Initial Conditions (*and Global Variables*)\n",
        "\n",
        "Now we set the conditions to start our domain"
      ]
    },
    {
      "cell_type": "code",
      "metadata": {
        "id": "OrZ48qvV1hHw"
      },
      "source": [
        "import numpy as np\n",
        "import matplotlib.pyplot as plt\n",
        "plt.style.use('seaborn') \n",
        "plt.rcParams['mathtext.fontset'] = 'stix'\n",
        "plt.rcParams['font.family'] = 'STIXGeneral'\n",
        "from copy import copy\n",
        "\n",
        "tol = 1e-4\n",
        "dx = 0.1\n",
        "Omega = np.arange(0,3+dx,dx)    # add dx in end of domain to include last point   # index array of unknown points\n",
        "C = 0.5\n",
        "\n",
        "gamma = 1.4\n",
        "\n",
        "def Area(x):\n",
        "    return 1 + 2.2*(x-1.5)**2\n",
        "\n",
        "# The minimum for the area function is the nozzle point, ie x = 1.5 -> M = 1\n",
        "\n",
        "# Initial Condition\n",
        "def p_init(x):\n",
        "    return 1 - 0.3146*x\n",
        "\n",
        "def T_init(x):\n",
        "    return 1 - 0.2314*x\n",
        "\n",
        "def V_init(x):\n",
        "    return (0.1 + 1.09*x)*np.sqrt(T_init(x))\n"
      ],
      "execution_count": 2,
      "outputs": []
    },
    {
      "cell_type": "markdown",
      "metadata": {
        "id": "3w8L341q1hHy"
      },
      "source": [
        "### Forward Diff\n",
        "\n",
        "$$\n",
        "\\begin{array}{l}\n",
        "\\left(\\frac{\\partial \\rho}{\\partial t}\\right)_{i}^{t}=-\\rho_{i}^{t} \\frac{V_{i+1}^{t}-V_{i}^{t}}{\\Delta x}-\\rho_{i}^{t} V_{i}^{t} \\frac{\\ln A_{i+1}-\\ln A_{i}}{\\Delta x}-V_{i}^{t} \\frac{\\rho_{i+1}^{t}-\\rho_{i}^{t}}{\\Delta x} \\\\\n",
        "\\left(\\frac{\\partial V}{\\partial t}\\right)_{i}^{t}=-V_{i}^{t} \\frac{V_{i+1}^{t}-V_{i}^{t}}{\\Delta x}-\\frac{1}{\\gamma}\\left(\\frac{T_{i+1}^{t}-T_{i}^{t}}{\\Delta x}+\\frac{T_{i}^{t}}{\\rho_{i}^{t}} \\frac{\\rho_{i+1}^{t}-\\rho_{i}^{t}}{\\Delta x}\\right) \\\\\n",
        "\\left(\\frac{\\partial T}{\\partial t}\\right)_{i}^{t}=-V_{i}^{t} \\frac{T_{i+1}^{t}-T_{i}^{t}}{\\Delta x}-(\\gamma-1) T_{i}^{t}\\left(\\frac{V_{i+1}^{t}-V_{i}^{t}}{\\Delta x}+V_{i}^{t} \\frac{\\ln A_{i+1}-\\ln A_{i}}{\\Delta x}\\right)\n",
        "\\end{array}\n",
        "$$\n"
      ]
    },
    {
      "cell_type": "code",
      "metadata": {
        "id": "LaqQT0xp1hHy"
      },
      "source": [
        "def dp_dt(i):\n",
        "    j = i + 1\n",
        "    val =   - p[i]*( V[j] - V[i] )  \\\n",
        "            - p[i]*V[i] * ( np.log(A[j]/A[i]) ) \\\n",
        "            - V[i]*( p[j] - p[i] )\n",
        "    return val/dx\n",
        "\n",
        "def dV_dt(i):\n",
        "    j = i + 1  \n",
        "    val =   - V[i] * (V[j] - V[i]) \\\n",
        "            -(T[j] - T[i] + T[i]/p[i] * ( p[j]-p[i]) )/gamma\n",
        "    return val/dx\n",
        "\n",
        "def dT_dt(i):\n",
        "    j = i + 1\n",
        "    val =   - V[i]*(T[j]-T[i]) \\\n",
        "            - (gamma - 1) * T[i] * (\n",
        "                 V[j] - V[i] + V[i]*( np.log(A[j]/A[i]) ) )   \n",
        "    return val/dx"
      ],
      "execution_count": 3,
      "outputs": []
    },
    {
      "cell_type": "markdown",
      "metadata": {
        "id": "1cTqsGb21hHz"
      },
      "source": [
        "### Backward Diff\n",
        "\n",
        "$$\n",
        "\\begin{array}{l}\n",
        "\\left(\\frac{\\overline{\\partial \\rho}}{\\partial t}\\right)_{i}^{t+\\Delta t}=-\\bar{\\rho}_{i}^{t+\\Delta t} \\frac{\\bar{V}_{i}^{t+\\Delta t}-\\bar{V}_{i-1}^{t+\\Delta t}}{\\Delta x}-\\bar{\\rho}_{i}^{t+\\Delta t} \\bar{V}_{i}^{t+\\Delta t} \\frac{\\ln A_{i}-\\ln A_{i-1}}{\\Delta x}-\\bar{V}_{i}^{t+\\Delta t} \\frac{\\bar{\\rho}_{i}^{t+\\Delta t}-\\bar{\\rho}_{i-1}^{t+\\Delta t}}{\\Delta x} \\\\\n",
        "\\left(\\frac{\\overline{\\partial V}}{\\partial t}\\right)_{i}^{t+\\Delta t}=-\\bar{V}_{i}^{t+\\Delta t} \\frac{\\bar{V}_{i}^{t+\\Delta t}-\\bar{V}_{i-1}^{t+\\Delta t}}{\\Delta x} -\n",
        " \\frac{1}{\\gamma}\\left(\\frac{\\bar{T}_{i}^{t+\\Delta t}-\\bar{T}_{i-1}^{t+\\Delta t}}{\\Delta x}+\\frac{\\bar{T}_{i}^{t+\\Delta t}}{\\bar{\\rho}_{i}^{t+\\Delta t}} \\frac{\\bar{\\rho}_{i}^{t+\\Delta t}-\\bar{\\rho}_{i-1}^{t+\\Delta t}}{\\Delta x}\\right) \\\\\n",
        "\\left(\\frac{\\overline{\\partial T}}{\\partial t}\\right)_{i}^{t+\\Delta t}=-\\bar{V}_{i}^{t+\\Delta t} \\frac{\\bar{T}_{i}^{t+\\Delta t}-\\bar{T}_{i-1}^{t+\\Delta t}}{\\Delta x} -\n",
        "(\\gamma-1) \\bar{T}_{i}^{t+\\Delta t} \\times\\left(\\frac{\\bar{V}_{i}^{t+\\Delta t}-\\bar{V}_{i-1}^{t+\\Delta t}}{\\Delta x}+\\bar{V}_{i}^{t+\\Delta t} \\frac{\\ln A_{i}-\\ln A_{i-1}}{\\Delta x}\\right)\n",
        "\\end{array}\n",
        "$$"
      ]
    },
    {
      "cell_type": "code",
      "metadata": {
        "id": "7UXpba8k1hHz"
      },
      "source": [
        "def dp_dt_(i):\n",
        "    j = i - 1\n",
        "    val =   - p_[i]*( V_[i] - V_[j] )  \\\n",
        "            - p_[i]*V_[i] * ( np.log(A[i]/A[j]) ) \\\n",
        "            - V_[i]*( p_[i] - p_[j] )\n",
        "    return val/dx\n",
        "\n",
        "def dV_dt_(i):\n",
        "    j = i - 1  \n",
        "    val =   - V_[i] * (V_[i] - V_[j]) \\\n",
        "            -(T_[i] - T_[j] + T_[i]/p_[i] * (p_[i]-p_[j]) )/gamma\n",
        "    return val/dx\n",
        "\n",
        "def dT_dt_(i):\n",
        "    j = i - 1\n",
        "    val =   - V_[i]*(T_[i]-T_[j]) \\\n",
        "            - (gamma - 1) * T_[i] * (\n",
        "                 V_[i] - V_[j] + V_[i]*( np.log(A[i]/A[j]) ) )   \n",
        "    return val/dx"
      ],
      "execution_count": 4,
      "outputs": []
    },
    {
      "cell_type": "markdown",
      "metadata": {
        "id": "CycoBZoZ1hH0"
      },
      "source": [
        "Where\n",
        "$$\n",
        "\\begin{aligned}\n",
        "\\bar{\\rho}_{i}^{t+\\Delta t} &=\\rho_{i}^{t}+\\left(\\frac{\\partial \\rho}{\\partial t}\\right)_{i}^{t} \\Delta t \\\\\n",
        "\\bar{V}_{i}^{t+\\Delta t} &=V_{i}^{t}+\\left(\\frac{\\partial V}{\\partial t}\\right)_{i}^{t} \\Delta t \\\\\n",
        "\\bar{T}_{i}^{t+\\Delta t} &=T_{i}^{t}+\\left(\\frac{\\partial T}{\\partial t}\\right)_{i}^{t} \\Delta t\n",
        "\\end{aligned}\n",
        "$$\n",
        "and we define time step in each step by the criterion:\n",
        "$$\n",
        "\\Delta t=\\operatorname{min}\\left(\\Delta t_{1}^{t}, \\Delta t_{2}^{t}, \\ldots, \\Delta t_{i}^{t}, \\ldots, \\Delta t_{N}^{t}\\right)\n",
        "$$\n",
        "where each $\\Delta t_{i}$ is given by the CFL condition:\n",
        "$$\n",
        "\\Delta t_i = C \\frac{\\Delta x}{\\sqrt{T_i}+V_i}\n",
        "$$\n",
        "\n",
        "## The Approximation\n",
        "Then we can do the prediction. With the forward and bacward differentiation, called by the author as prediction and correction, we take the average as follows\n",
        "$$\n",
        "\\begin{array}{l}\n",
        "\\left(\\frac{\\partial \\rho}{\\partial t}\\right)_{a v}=0.5\\left[\\left(\\frac{\\partial \\rho}{\\partial t}\\right)_{i}^{t}+\\left(\\frac{\\overline{\\partial \\rho}}{\\partial t}\\right)_{i}^{t+\\Delta t}\\right] \\\\\n",
        "\\left(\\frac{\\partial V}{\\partial t}\\right)_{\\text {av }}=0.5\\left[\\left(\\frac{\\partial V}{\\partial t}\\right)_{i}^{t}+\\left(\\frac{\\overline{\\partial V}}{\\partial t}\\right)_{i}^{t+\\Delta t}\\right] \\\\\n",
        "\\left(\\frac{\\partial T}{\\partial t}\\right)_{a v}=0.5\\left[\\left(\\frac{\\partial T}{\\partial t}\\right)_{i}^{t}+\\left(\\frac{\\overline{\\partial T}}{\\partial t}\\right)_{i}^{t+\\Delta t}\\right]\n",
        "\\end{array}\n",
        "$$"
      ]
    },
    {
      "cell_type": "code",
      "metadata": {
        "id": "pesconQ71hH0"
      },
      "source": [
        "def plot_res( dp_dt_av, dV_dt_av, it ):\n",
        "\n",
        "    plt.plot(Omega[1:-1],np.log(np.abs(dp_dt_av)))\n",
        "    plt.xlabel(r'$x$')\n",
        "    plt.ylabel(r'$\\ln\\frac{\\partial\\rho}{\\partial t}$', rotation=0, fontsize=15)\n",
        "    plt.title(r'Variação da densidade no instante $t={:.2f}$'.format(it*dt))\n",
        "    plt.savefig('output/logrho_'+str(it)+'.png', dpi=100)\n",
        "    plt.close()\n",
        "\n",
        "    plt.plot(Omega[1:-1],np.log(np.abs(dV_dt_av)))\n",
        "    plt.xlabel(r'$x$')\n",
        "    plt.ylabel(r'$\\ln\\frac{\\partial V}{\\partial t}$', rotation=0, fontsize=15)\n",
        "    plt.title(r'Variação da velocidade no instante $t={:.2f}$'.format(it*dt))\n",
        "    plt.savefig('output/logvel_'+str(it)+'.png', dpi=100)\n",
        "    plt.close()\n",
        "\n",
        "def plot_vars( p, T, V, it ):\n",
        "\n",
        "    plt.plot(Omega,p)\n",
        "    plt.xlabel(r'$x$')\n",
        "    plt.ylabel(r'$\\rho$', rotation=0, fontsize=15)\n",
        "    plt.title(r'Densidade no instante $t={:.2f}$'.format(it*dt))\n",
        "    plt.savefig('output/vars/rho_'+str(it)+'.png', dpi=100)\n",
        "    plt.close()\n",
        "\n",
        "    plt.plot(Omega,T)\n",
        "    plt.xlabel(r'$x$')\n",
        "    plt.ylabel(r'$T$', rotation=0, fontsize=15)\n",
        "    plt.title(r'Temperatura no instante $t={:.2f}$'.format(it*dt))\n",
        "    plt.savefig('output/vars/tem_'+str(it)+'.png', dpi=100)\n",
        "    plt.close()\n",
        "\n",
        "    plt.plot(Omega,V)\n",
        "    plt.xlabel(r'$x$')\n",
        "    plt.ylabel(r'$V$', rotation=0, fontsize=15)\n",
        "    plt.title(r'Velocidade no instante $t={:.2f}$'.format(it*dt))\n",
        "    plt.savefig('output/vars/vel_'+str(it)+'.png', dpi=100)\n",
        "    plt.close()\n",
        "\n",
        "\n",
        "def MacCormack(Omega, courant):\n",
        "    nel = len(Omega)\n",
        "    indices = np.array([i for i in range(nel)])[1:-1]\n",
        "    \n",
        "    C = courant\n",
        "    global A\n",
        "    A = Area(Omega)\n",
        "    global p\n",
        "    p = p_init(Omega)\n",
        "    global T\n",
        "    T = T_init(Omega)\n",
        "    global V\n",
        "    V = V_init(Omega)\n",
        "\n",
        "    # for i in range(15):\n",
        "    global p_\n",
        "    global T_\n",
        "    global V_\n",
        "    it = 0\n",
        "    while(True):\n",
        "        it += 1\n",
        "        # aux vars for prediction step\n",
        "        p_ = copy(p)\n",
        "        T_ = copy(T)\n",
        "        V_ = copy(V)\n",
        "\n",
        "        dt = np.min(C * dx / (np.sqrt(T) + V))\n",
        "\n",
        "        # PREDICTOR\n",
        "        p_[1:-1] = p[1:-1] + dp_dt(indices) * dt\n",
        "        V_[1:-1] = V[1:-1] + dV_dt(indices) * dt\n",
        "        T_[1:-1] = T[1:-1] + dT_dt(indices) * dt\n",
        "\n",
        "        # \n",
        "        dp_dt_av = 0.5*( dp_dt(indices) + dp_dt_(indices) )\n",
        "        dV_dt_av = 0.5*( dV_dt(indices) + dV_dt_(indices) )\n",
        "        dT_dt_av = 0.5*( dT_dt(indices) + dT_dt_(indices) )\n",
        "\n",
        "        # CORRECTOR\n",
        "        p[1:-1] = p[1:-1] + dp_dt_av * dt\n",
        "        V[1:-1] = V[1:-1] + dV_dt_av * dt\n",
        "        T[1:-1] = T[1:-1] + dT_dt_av * dt\n",
        "\n",
        "        criteria = np.max( np.abs(np.concatenate((dp_dt_av,dV_dt_av,dT_dt_av))) )\n",
        "        if(criteria < tol):\n",
        "            break\n",
        "\n",
        "        # Boundary Conditions\n",
        "        p[ 0] = 1\n",
        "        V[ 0] = 2*V[1] - V[2]\n",
        "        T[ 0] = 1\n",
        "\n",
        "        p[-1] = 2*p[-2] - p[-3]\n",
        "        V[-1] = 2*V[-2] - V[-3]\n",
        "        T[-1] = 2*T[-2] - T[-3]\n",
        "\n",
        "        # Plot the results in the atual step\n",
        "        # plot_res( dp_dt_av, dV_dt_av, it )\n",
        "        # plot_vars( p, T, V, it )\n",
        "    \n",
        "courant = 0.5\n",
        "dx = 0.1\n",
        "Omega = np.arange(0,3+dx,dx)  \n",
        "nel = len(Omega)\n",
        "MacCormack(Omega, courant)\n",
        "            "
      ],
      "execution_count": 5,
      "outputs": []
    },
    {
      "cell_type": "markdown",
      "metadata": {
        "id": "S3EJAJBKqScb"
      },
      "source": [
        "---\n",
        "### Generate animations (*Run locally only*)\n",
        "---"
      ]
    },
    {
      "cell_type": "code",
      "metadata": {
        "id": "iKFMI4x-1hH3"
      },
      "source": [
        "# import imageio\n",
        "# images1 = []\n",
        "# images2 = []\n",
        "# images3 = []\n",
        "# for k in range(1,871):\n",
        "#     images1.append(imageio.imread('output/vars/rho_'+str(k)+'.png'))\n",
        "#     images2.append(imageio.imread('output/vars/tem_'+str(k)+'.png'))\n",
        "#     images3.append(imageio.imread('output/vars/vel_'+str(k)+'.png'))\n",
        "# imageio.mimsave('output/vars/_rho_t.gif', images1)\n",
        "# imageio.mimsave('output/vars/_tem_t.gif', images2)\n",
        "# imageio.mimsave('output/vars/_vel_t.gif', images3)"
      ],
      "execution_count": 7,
      "outputs": []
    },
    {
      "cell_type": "markdown",
      "metadata": {
        "id": "p3lAeQFV1hH3"
      },
      "source": [
        "Approximations for $\\rho, V$ and $T$ respectively, until convergence to steady state:\n",
        "\n",
        "<table><tr>\n",
        "<td> <img src=\"https://github.com/GabrielBMiranda/MacCormack/blob/main/_rho_t.gif?raw=true\" width=\"400\" align=\"center\"> </td>\n",
        "<td> <img src=\"https://github.com/GabrielBMiranda/MacCormack/blob/main/_vel_t.gif?raw=true\" width=\"400\" align=\"center\"> </td>\n",
        "<td> <img src=\"https://github.com/GabrielBMiranda/MacCormack/blob/main/_tem_t.gif?raw=true\" width=\"400\" align=\"center\"> </td>\n",
        "</tr></table>"
      ]
    },
    {
      "cell_type": "code",
      "metadata": {
        "id": "jKNI_HQ71hH2"
      },
      "source": [
        "# # !convert -delay  1 -loop 0 output/300/rho_*.png rho.gif\n",
        "# # !convert -delay  1 -loop 0 output/300/vel_*.png vel.gif\n",
        "\n",
        "# import imageio\n",
        "# images1 = []\n",
        "# images2 = []\n",
        "# for k in range(1,301):\n",
        "#     images1.append(imageio.imread('output/rho_'+str(k)+'.png'))\n",
        "#     images2.append(imageio.imread('output/vel_'+str(k)+'.png'))\n",
        "# imageio.mimsave('rho_1.gif', images1)\n",
        "# imageio.mimsave('vel_1.gif', images2)\n",
        "\n",
        "# images1 = []\n",
        "# images2 = []\n",
        "# for k in range(301,601):\n",
        "#     images1.append(imageio.imread('output/rho_'+str(k)+'.png'))\n",
        "#     images2.append(imageio.imread('output/vel_'+str(k)+'.png'))\n",
        "# imageio.mimsave('rho_2.gif', images1)\n",
        "# imageio.mimsave('vel_2.gif', images2)\n",
        "\n",
        "# images1 = []\n",
        "# images2 = []\n",
        "# for k in range(601,871):\n",
        "#     images1.append(imageio.imread('output/rho_'+str(k)+'.png'))\n",
        "#     images2.append(imageio.imread('output/vel_'+str(k)+'.png'))\n",
        "# imageio.mimsave('rho_3.gif', images1)\n",
        "# imageio.mimsave('vel_3.gif', images2)"
      ],
      "execution_count": null,
      "outputs": []
    },
    {
      "cell_type": "markdown",
      "metadata": {
        "id": "WxiRU8G01hH2"
      },
      "source": [
        "## Residu\n",
        "\n",
        "- Step 1 to 300:\n",
        "<table><tr>\n",
        "<td> <img src=\"https://github.com/GabrielBMiranda/MacCormack/blob/main/rho_1.gif?raw=true\" width=\"500\" align=\"center\"> </td>\n",
        "<td> <img src=\"https://github.com/GabrielBMiranda/MacCormack/blob/main/vel_1.gif?raw=true\" width=\"500\" align=\"center\"> </td>\n",
        "</tr></table>\n",
        "\n",
        "- Step 300 to 600:\n",
        "<table><tr>\n",
        "<td> <img src=\"https://github.com/GabrielBMiranda/MacCormack/blob/main/rho_2.gif?raw=true\" width=\"500\" align=\"center\"> </td>\n",
        "<td> <img src=\"https://github.com/GabrielBMiranda/MacCormack/blob/main/vel_2.gif?raw=true\" width=\"500\" align=\"center\"> </td>\n",
        "</tr></table>\n",
        "\n",
        "- Step 600 to 824:\n",
        "<table><tr>\n",
        "<td> <img src=\"https://github.com/GabrielBMiranda/MacCormack/blob/main/rho_3.gif?raw=true\" width=\"500\" align=\"center\"> </td>\n",
        "<td> <img src=\"https://github.com/GabrielBMiranda/MacCormack/blob/main/vel_3.gif?raw=true\" width=\"500\" align=\"center\"> </td>\n",
        "</tr></table>"
      ]
    },
    {
      "cell_type": "markdown",
      "metadata": {
        "id": "KjNdHWgq1hH3"
      },
      "source": [
        "### Exact Solutions on the Nozzle.\n",
        "\n",
        "Having the analytical solution given by\n",
        "$$\n",
        "\\begin{aligned}\n",
        "\\rho^{\\prime} = \\frac{\\rho}{\\rho_{0}} &= \\left(1+\\frac{\\gamma-1}{2} M^{2}\\right)^{-1 /(\\gamma-1)} \\\\\n",
        "T^{\\prime} = \\frac{T}{T_{0}} &= \\left(1+\\frac{\\gamma-1}{2} M^{2}\\right)^{-1}\n",
        "\\end{aligned}\n",
        "$$\n",
        "where $M$ is the Mach number, given by\n",
        "$$\n",
        "M \\approx \n",
        "\\left\\{\\begin{array}{l}\n",
        "    \\left.\\begin{array}{ll}\n",
        "    \\frac{1+0.27\\left(A / A^{*}\\right)^{-2}}{1.728 A / A^{*}}, & 1.34<\\frac{A}{A^{*}}<\\infty \\\\\n",
        "    1-0.88\\left(\\ln \\frac{A}{A^{*}}\\right)^{0,45}, & 1.0<\\frac{A}{A^{*}}<1.34\n",
        "    \\end{array}\\right\\} \\\\\n",
        "    \\left.\\begin{array}{ll}\n",
        "    1+1.2\\left(\\frac{A}{A^{*}}-1\\right)^{1 / 2}, & 1.0<\\frac{A}{A^{*}}<2.9 \\\\\n",
        "    \\left[216 \\frac{A}{A^{*}}-254\\left(\\frac{A}{A^{*}}\\right)^{2 / 3}\\right]^{1 / 5}, & 2.9<\\frac{A}{A^{*}}<\\infty\n",
        "    \\end{array}\\right\\}\n",
        "\\end{array}\\right.\n",
        "$$\n",
        "We can now evaluate the approximation on the domain comparing it with the exact solution. "
      ]
    },
    {
      "cell_type": "code",
      "metadata": {
        "id": "jv94Xe_61hH4"
      },
      "source": [
        "def exact_M(x):\n",
        "    A = Area(x)\n",
        "    M = np.zeros(x.size)\n",
        "    for i in range(x.size):\n",
        "        if(x[i] < 1.5):\n",
        "            if (A[i] > 1.34):\n",
        "                M[i] = (1 + 0.27*A[i]**(-2))/(1.728*A[i])\n",
        "            else:\n",
        "                M[i] = 1 - 0.88 * np.log(A[i])**0.45\n",
        "        else:\n",
        "            if (A[i] > 2.9):\n",
        "                M[i] = (216*A[i] - 254*A[i]**(2/3))**(1/5)\n",
        "            else:\n",
        "                M[i] = 1 + 1.2*(A[i]-1)**(1/2)\n",
        "    return M\n",
        "\n",
        "def exact_p(x):\n",
        "    return (1+(gamma-1)/2*exact_M(x)**2)**(-1/(gamma-1) )\n",
        "\n",
        "def exact_T(x):\n",
        "    return (1+(gamma-1)/2*exact_M(x)**2)**(-1)\n"
      ],
      "execution_count": 8,
      "outputs": []
    },
    {
      "cell_type": "markdown",
      "metadata": {
        "id": "KjvW80Rm1hH4"
      },
      "source": [
        "## Plot Comparisons"
      ]
    },
    {
      "cell_type": "code",
      "metadata": {
        "id": "DCKIRmh-1hH5",
        "colab": {
          "base_uri": "https://localhost:8080/",
          "height": 738
        },
        "outputId": "0ab51ca2-5823-4872-e333-22cdf590b901"
      },
      "source": [
        "plt.plot(Omega,exact_p(Omega), label='Exata')\n",
        "plt.plot(Omega,p, label='Aproximada')\n",
        "plt.xlabel(r'$x$')\n",
        "plt.ylabel(r'$\\rho$', rotation=0)\n",
        "plt.title(r'Densidade Estacionária: Solução Exata $\\times$ Aproximada. ($C = {:.1e}, \\epsilon = {:.0e}$.)'.format(courant, tol))\n",
        "plt.legend(loc='best')\n",
        "# plt.savefig('imgs/__rho_stat-nel'+str(nel)+'.png', dpi=100)\n",
        "plt.show()\n",
        "plt.close()\n",
        "\n",
        "plt.plot(Omega,exact_T(Omega), label='Exata')\n",
        "plt.plot(Omega,T, label='Aproximada')\n",
        "plt.xlabel(r'$x$')\n",
        "plt.ylabel(r'$T$', rotation=0)\n",
        "plt.title(r'Temperatura Estacionária: Solução Exata $\\times$ Aproximada. ($C = {:.1e}, \\epsilon = {:.0e}$.)'.format(courant, tol))\n",
        "plt.legend(loc='best')\n",
        "# plt.savefig('imgs/__tem_stat-nel'+str(nel)+'.png', dpi=100)\n",
        "plt.show()\n",
        "plt.close()"
      ],
      "execution_count": 9,
      "outputs": [
        {
          "output_type": "display_data",
          "data": {
            "image/png": "[encoded data removed]",
            "text/plain": [
              "<Figure size 576x396 with 1 Axes>"
            ]
          },
          "metadata": {}
        },
        {
          "output_type": "display_data",
          "data": {
            "image/png": "[encoded data removed]",
            "text/plain": [
              "<Figure size 576x396 with 1 Axes>"
            ]
          },
          "metadata": {}
        }
      ]
    },
    {
      "cell_type": "markdown",
      "metadata": {
        "id": "FksnwhIm1hH6"
      },
      "source": [
        "## Testing other meshes and Courant values.\n",
        "\n",
        "To see the plot for different just choose other values for `courant` and `dx` and rerun the code in section **Plot Comparisons**."
      ]
    },
    {
      "cell_type": "code",
      "metadata": {
        "id": "6bN4L3H61hH6"
      },
      "source": [
        "courant = 0.5\n",
        "dx = 0.01\n",
        "Omega = np.arange(0,3+dx,dx)  \n",
        "nel = len(Omega)\n",
        "MacCormack(Omega, courant)"
      ],
      "execution_count": null,
      "outputs": []
    },
    {
      "cell_type": "code",
      "metadata": {
        "id": "Gx06rNGm1hH6"
      },
      "source": [
        "courant = 1\n",
        "dx = 0.01\n",
        "Omega = np.arange(0,3+dx,dx)  \n",
        "nel = len(Omega)\n",
        "MacCormack(Omega, courant)"
      ],
      "execution_count": null,
      "outputs": []
    },
    {
      "cell_type": "code",
      "metadata": {
        "id": "kD7pym791hH7"
      },
      "source": [
        "courant = 0.75\n",
        "dx = 0.05\n",
        "Omega = np.arange(0,3+dx,dx)  \n",
        "nel = len(Omega)\n",
        "MacCormack(Omega, courant)"
      ],
      "execution_count": null,
      "outputs": []
    },
    {
      "cell_type": "markdown",
      "metadata": {
        "id": "WkGc1SEIGPq6"
      },
      "source": [
        "For more details see Section 7 of \n",
        "\n",
        "[Anderson, J. D., & Wendt, J. (1995). Computational fluid dynamics (Vol. 206, p. 332). New York: McGraw-Hill.](https://link.springer.com/book/10.1007%2F978-3-540-85056-4)\n"
      ]
    }
  ]
}